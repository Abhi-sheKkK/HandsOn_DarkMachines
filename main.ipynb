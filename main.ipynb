{
 "cells": [
  {
   "cell_type": "code",
   "execution_count": null,
   "metadata": {},
   "outputs": [],
   "source": [
    "import os\n",
    "os.environ[\"KMP_WARNINGS\"] = \"off\"\n",
    "import csv\n",
    "import numpy as np\n",
    "import h5py\n",
    "from numba import njit\n",
    "from dask import delayed, compute\n",
    "import time \n",
    "from tqdm.rich import tqdm"
   ]
  },
  {
   "cell_type": "code",
   "execution_count": null,
   "metadata": {},
   "outputs": [],
   "source": [
    "input_path='HandsOn_DarkMachines\\darkmachines_dataset'\n",
    "def convert_csv_to_hdf5_parallel(input_path):\n",
    "    for file_name in tqdm(os.listdir(input_path), desc=\"Converting files: \"):\n",
    "        file_path = os.path.join(input_path, file_name)\n",
    "        output_prefix = os.path.splitext(file_name)[0]\n",
    "        \n",
    "\n",
    "\n",
    "\n",
    "\n"
   ]
  }
 ],
 "metadata": {
  "kernelspec": {
   "display_name": "hep_env",
   "language": "python",
   "name": "python3"
  },
  "language_info": {
   "codemirror_mode": {
    "name": "ipython",
    "version": 3
   },
   "file_extension": ".py",
   "mimetype": "text/x-python",
   "name": "python",
   "nbconvert_exporter": "python",
   "pygments_lexer": "ipython3",
   "version": "3.12.6"
  }
 },
 "nbformat": 4,
 "nbformat_minor": 2
}
